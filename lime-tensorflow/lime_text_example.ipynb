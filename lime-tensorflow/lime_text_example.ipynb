{
 "cells": [
  {
   "cell_type": "markdown",
   "metadata": {
    "collapsed": true,
    "pycharm": {
     "name": "#%% md\n"
    }
   },
   "source": [
    "## LIME example: simple binary text classifier\n",
    "For this example, we use a pre-trained model used to predict the sentiment (positive\n",
    "or negative) of IMDB movie reviews. The tutorial for creating that model is linked in the GitHub repo's README.\n",
    "\n",
    "Requirements for successfully running this notebook are numpy, tensorflow, and of course, LIME.\n",
    "### 0. Imports"
   ]
  },
  {
   "cell_type": "code",
   "source": [
    "import pickle\n",
    "\n",
    "import numpy as np\n",
    "import tensorflow as tf\n",
    "from lime.lime_text import LimeTextExplainer"
   ],
   "metadata": {
    "collapsed": false,
    "pycharm": {
     "name": "#%%\n"
    }
   },
   "execution_count": 1,
   "outputs": []
  },
  {
   "cell_type": "markdown",
   "source": [
    "### 1. Class definition\n",
    "The following class is a straightforward wrapper around the TensorFlow model's prediction\n",
    "function, in order to correctly interface with the LIME API."
   ],
   "metadata": {
    "collapsed": false
   }
  },
  {
   "cell_type": "code",
   "execution_count": null,
   "outputs": [],
   "source": [
    "class KerasClassifier:\n",
    "    loaded_model = tf.keras.models.load_model('model.h5')\n",
    "    with open('tokenizer.pickle', 'rb') as f:\n",
    "        loaded_tokenizer = pickle.load(f)\n",
    "\n",
    "    def prepare_data(self, strings):\n",
    "        sequences = self.loaded_tokenizer.texts_to_sequences(strings)\n",
    "        sequences = tf.keras.preprocessing.sequence.pad_sequences(sequences, maxlen=128, padding=\"post\")\n",
    "        return sequences\n",
    "\n",
    "    def get_probabilites(self, strings):\n",
    "        sequences = self.prepare_data(strings=strings)\n",
    "        predictions = self.loaded_model.predict([sequences])\n",
    "\n",
    "        probability_list = []\n",
    "        for prediction in predictions:\n",
    "            probability_raw = prediction[0]\n",
    "            probability_list.append([probability_raw, (1 - probability_raw)])\n",
    "\n",
    "        return np.array(probability_list)\n",
    "\n"
   ],
   "metadata": {
    "collapsed": false,
    "pycharm": {
     "name": "#%%\n"
    }
   }
  },
  {
   "cell_type": "markdown",
   "source": [
    "### 2. Getting some movie reviews\n"
   ],
   "metadata": {
    "collapsed": false,
    "pycharm": {
     "name": "#%% md\n"
    }
   }
  },
  {
   "cell_type": "code",
   "execution_count": null,
   "outputs": [],
   "source": [
    "review_joker = \"Truly a masterpiece, The Best Hollywood film of 2019, one of the Best films of the decade... And truly the \"\\\n",
    "          \"Best film to bring a comic book so chillingly and realistically to real ife. Remarkable Direction, \" \\\n",
    "          \"Cinematography, Music and the Acting. Some people are surprised to find it DISTURBING and VIOLENT, \" \\\n",
    "          \"but it's a necessity and message. It's about society and reflects those \" \\\n",
    "          \"underappreciated/unrecognized/bullied people, proving they can do something too. The way it shows class \" \\\n",
    "          \"difference, corruption and how rich and talented rule others around them is not exaggerated and that's \" \\\n",
    "          \"what makes it different. It's BELIEVABLE. There could be multiple JOKERs living in our society that could \" \\\n",
    "          \"shake those around them in much bitter way than the film shows making people uncomforting people. Consider \" \\\n",
    "          \"this a wake up call, a message, but first a film. A PERFECT film. \"\n",
    "\n",
    "review_cats = \"This movie reminds me of that scene from Jurassic Park where Jeff Goldblum says 'You were so preoccupied \" \\\n",
    "          \"with whether or not you could, you never bothered to ask if you should.' This was hands down the most \" \\\n",
    "          \"disturbingly awful movie I have ever seen. Whoever greenlit this should never be in charge of the light \" \\\n",
    "          \"ever again. How dare they do this to me?!? Please don't go see this movie. And if you do, may God have \" \\\n",
    "          \"mercy on your soul. \"\n"
   ],
   "metadata": {
    "collapsed": false,
    "pycharm": {
     "name": "#%%\n"
    }
   }
  },
  {
   "cell_type": "markdown",
   "source": [
    "### 3. First prediction\n",
    "Let's see if we can get probabilities for a review's sentiment."
   ],
   "metadata": {
    "collapsed": false
   }
  },
  {
   "cell_type": "code",
   "execution_count": null,
   "outputs": [],
   "source": [
    "classifier = KerasClassifier()\n",
    "probabs = classifier.get_probabilites(strings=[review_cats])\n",
    "print(probabs)\n"
   ],
   "metadata": {
    "collapsed": false,
    "pycharm": {
     "name": "#%%\n"
    }
   }
  },
  {
   "cell_type": "markdown",
   "source": [
    "### 4. First LIME explanation\n",
    "We got almost 73% probability that this is a negative review. We can of course confirm that manually,\n",
    "but let's let LIME explain why our model thinks that the review was negative.\n"
   ],
   "metadata": {
    "collapsed": false
   }
  },
  {
   "cell_type": "code",
   "execution_count": null,
   "outputs": [],
   "source": [
    "explainer = LimeTextExplainer(class_names=['positive', 'negative'])\n",
    "explanation = explainer.explain_instance(review_cats, classifier.get_probabilites, num_features=6)\n",
    "explanation.show_in_notebook()\n",
    "\n"
   ],
   "metadata": {
    "collapsed": false,
    "pycharm": {
     "name": "#%%\n"
    }
   }
  },
  {
   "cell_type": "markdown",
   "source": [
    "### 4b. Another LIME explanation\n",
    "Let's also look at a positive review:\n"
   ],
   "metadata": {
    "collapsed": false
   }
  },
  {
   "cell_type": "code",
   "execution_count": null,
   "outputs": [],
   "source": [
    "explanation2 = explainer.explain_instance(review_joker, classifier.get_probabilites, num_features=6)\n",
    "explanation2.show_in_notebook()\n",
    "\n",
    "\n"
   ],
   "metadata": {
    "collapsed": false,
    "pycharm": {
     "name": "#%%\n"
    }
   }
  }
 ],
 "metadata": {
  "kernelspec": {
   "name": "python3",
   "language": "python",
   "display_name": "Python 3"
  },
  "language_info": {
   "codemirror_mode": {
    "name": "ipython",
    "version": 2
   },
   "file_extension": ".py",
   "mimetype": "text/x-python",
   "name": "python",
   "nbconvert_exporter": "python",
   "pygments_lexer": "ipython2",
   "version": "2.7.6"
  }
 },
 "nbformat": 4,
 "nbformat_minor": 0
}